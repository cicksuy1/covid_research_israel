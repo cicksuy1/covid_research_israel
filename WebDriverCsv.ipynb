{
 "cells": [
  {
   "cell_type": "markdown",
   "metadata": {},
   "source": [
    "In this block we will deal with the israeli gov_api. \n",
    "and crawl the total cases of covid\n",
    "The api that is used is ckan api.\n",
    "related info: https://docs.ckan.org/en/latest/maintaining/datastore.html#ckanext.datastore.logic.action.datastore_search\n"
   ]
  },
  {
   "cell_type": "code",
   "execution_count": 22,
   "metadata": {},
   "outputs": [],
   "source": [
    "import pandas as pd\n",
    "import urllib.request\n",
    "url = 'https://data.gov.il/api/3/action/datastore_search?resource_id=dcf999c1-d394-4b57-a5e0-9d014a62e046&limit=1&include_total=true'\n",
    "fileobj = urllib.request.urlopen(url)\n",
    "case_object = pd.read_json(fileobj)\n",
    "totalcases=case_object.loc[\"total\"][\"result\"]"
   ]
  },
  {
   "cell_type": "markdown",
   "metadata": {},
   "source": [
    "Because they are having slow data provider i have decided to split the request for 10 times and then i converted the data into pandas dataframe for plotting "
   ]
  },
  {
   "cell_type": "code",
   "execution_count": null,
   "metadata": {},
   "outputs": [
    {
     "name": "stdout",
     "output_type": "stream",
     "text": [
      "0 532079\n",
      "532079 1064158\n",
      "1064158 1596237\n",
      "1596237 2128316\n",
      "2128316 2660395\n",
      "2660395 3192474\n"
     ]
    }
   ],
   "source": [
    "devide = totalcases//10\n",
    "counter =0\n",
    "df_corona_tests=pd.DataFrame()\n",
    "for req in range(10):\n",
    "    offset = counter\n",
    "    counter =counter+devide\n",
    "    url='https://data.gov.il/api/3/action/datastore_search?resource_id=dcf999c1-d394-4b57-a5e0-9d014a62e046&limit='+str(counter)+'&offset='+str(offset)\n",
    "    fileobj = urllib.request.urlopen(url)\n",
    "    temp_object=pd.read_json(fileobj)\n",
    "    tempdf= pd.DataFrame(temp_object.loc[\"records\"][\"result\"])\n",
    "    temp_df=pd.concat([df_corona_tests,tempdf])\n",
    "    df_corona_tests = tempdf\n",
    "    print(offset,counter)\n",
    "df_corona_tests"
   ]
  },
  {
   "cell_type": "code",
   "execution_count": 21,
   "metadata": {},
   "outputs": [
    {
     "data": {
      "text/plain": [
       "<http.client.HTTPResponse at 0x1fa8e92e8c8>"
      ]
     },
     "execution_count": 21,
     "metadata": {},
     "output_type": "execute_result"
    }
   ],
   "source": []
  },
  {
   "cell_type": "code",
   "execution_count": null,
   "metadata": {},
   "outputs": [],
   "source": []
  },
  {
   "cell_type": "code",
   "execution_count": null,
   "metadata": {},
   "outputs": [],
   "source": []
  }
 ],
 "metadata": {
  "kernelspec": {
   "display_name": "Python 3",
   "language": "python",
   "name": "python3"
  },
  "language_info": {
   "codemirror_mode": {
    "name": "ipython",
    "version": 3
   },
   "file_extension": ".py",
   "mimetype": "text/x-python",
   "name": "python",
   "nbconvert_exporter": "python",
   "pygments_lexer": "ipython3",
   "version": "3.7.6"
  }
 },
 "nbformat": 4,
 "nbformat_minor": 4
}
